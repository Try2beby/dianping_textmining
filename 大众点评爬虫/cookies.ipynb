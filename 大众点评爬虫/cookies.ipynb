{
 "cells": [
  {
   "cell_type": "code",
   "execution_count": 1,
   "metadata": {},
   "outputs": [],
   "source": [
    "import json\n",
    "import os\n",
    "\n",
    "cachePath = \"./cache/\"\n",
    "cookieJson = \"cookies.json\"\n",
    "cookieTxt = \"cookies.txt\""
   ]
  },
  {
   "cell_type": "code",
   "execution_count": 2,
   "metadata": {},
   "outputs": [],
   "source": [
    "with open(os.path.join(cachePath, \"cookies.json\"), \"r\") as f:\n",
    "    cookies = json.load(f)\n",
    "cookies = \"; \".join([f\"{item['name']}={item['value']}\" for item in cookies])\n",
    "# append to cookieTxt, don't overwrite\n",
    "with open(os.path.join(cachePath, cookieTxt), \"a\") as f:\n",
    "    f.write(cookies)\n",
    "    f.write(\"\\n\")"
   ]
  },
  {
   "cell_type": "code",
   "execution_count": 9,
   "metadata": {},
   "outputs": [
    {
     "name": "stdout",
     "output_type": "stream",
     "text": [
      "_hc.v=8591203f-02e6-63bf-f3f9-07e20edce3bd.1712556947; _lx_utm=utm_source%3Dbing%26utm_medium%3Dorganic; _lxsdk=18ebc5936d6c8-00324f70cf16d1-4c657b58-384000-18ebc5936d7c8; _lxsdk_cuid=18ebc5936d6c8-00324f70cf16d1-4c657b58-384000-18ebc5936d7c8; _lxsdk_s=18ed280c296-337-26b-0e2%7C%7C262; ctu=abd3f273100f0b50daa4d5b75c2804ddb7dd200b668f10e90238f7fa3cfaf24e; cy=1; cye=shanghai; dper=020222220abe3151be75ee3aef240d8986f8957ef07cb03b32b0b3d8a805924a7933d00b1a278d5f9ceed85b09967f488085112994510ef650fb000000004f1f0000ed034b1da58402f7433a99a38d827fb3ee987e8fa4210edc7f1bb1213f834740949d2dafb2a7c0f0239ee8cc0395bce7; dplet=5e0992266fbac906368595fb497a8a8b; fspop=test; Hm_lpvt_602b80cf8079ae6591966cc70a3940e7=1712928721; Hm_lvt_602b80cf8079ae6591966cc70a3940e7=1712640670,1712843011,1712883161,1712897834; ll=7fd06e815b796be3df069dec7836c3df; m_flash2=1; qruuid=85e2339f-548a-4464-aa7f-cbc1a7689888; s_ViewType=10; ua=weh; WEBDFPID=7x6y7x683xw95wv4148z4y8826u679y881vx8832wvu979586w8xzu7y-2027996461129-1712636460219SAKKYIGfd79fef3d01d5e9aadc18ccd4d0c95071751\n"
     ]
    }
   ],
   "source": [
    "with open(os.path.join(cachePath, cookieTxt), \"r\") as f:\n",
    "    allCookies = [item.strip() for item in f.readlines()]\n",
    "\n",
    "for item in allCookies:\n",
    "    print(item)"
   ]
  },
  {
   "cell_type": "code",
   "execution_count": 4,
   "metadata": {},
   "outputs": [
    {
     "data": {
      "text/plain": [
       "[3, 2, 1]"
      ]
     },
     "execution_count": 4,
     "metadata": {},
     "output_type": "execute_result"
    }
   ],
   "source": [
    "import random\n",
    "\n",
    "a = [1, 2, 3]\n",
    "random.shuffle(a)\n",
    "a"
   ]
  }
 ],
 "metadata": {
  "kernelspec": {
   "display_name": "py38",
   "language": "python",
   "name": "python3"
  },
  "language_info": {
   "codemirror_mode": {
    "name": "ipython",
    "version": 3
   },
   "file_extension": ".py",
   "mimetype": "text/x-python",
   "name": "python",
   "nbconvert_exporter": "python",
   "pygments_lexer": "ipython3",
   "version": "3.8.18"
  }
 },
 "nbformat": 4,
 "nbformat_minor": 2
}
